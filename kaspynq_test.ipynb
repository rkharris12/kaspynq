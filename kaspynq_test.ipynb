{
 "cells": [
  {
   "cell_type": "markdown",
   "metadata": {},
   "source": [
    "# Python implementation"
   ]
  },
  {
   "cell_type": "code",
   "execution_count": 1,
   "metadata": {},
   "outputs": [],
   "source": [
    "# -*- coding: utf-8 -*-\n",
    "# Implementation by Gilles Van Assche, hereby denoted as \"the implementer\".\n",
    "#\n",
    "# For more information, feedback or questions, please refer to our website:\n",
    "# https://keccak.team/\n",
    "#\n",
    "# To the extent possible under law, the implementer has waived all copyright\n",
    "# and related or neighboring rights to the source code in this file.\n",
    "# http://creativecommons.org/publicdomain/zero/1.0/\n",
    "#\n",
    "# Code taken from github: https://github.com/XKCP/XKCP\n",
    "\n",
    "import numpy as np\n",
    "\n",
    "KECCAK_BYTES = 200\n",
    "KECCAK_LANES = 25\n",
    "KECCAK_PLANES_SLICES = 5\n",
    "\n",
    "THETA_REORDER = ((4, 0, 1, 2, 3), (1, 2, 3, 4, 0))\n",
    "\n",
    "#Iota Step Round Constants For Keccak-p(1600, 24)\n",
    "IOTA_CONSTANTS = np.array([0x0000000000000001,0x0000000000008082, 0x800000000000808A,\n",
    "                            0x8000000080008000, 0x000000000000808B, 0x0000000080000001,\n",
    "                            0x8000000080008081, 0x8000000000008009, 0x000000000000008A,\n",
    "                            0x0000000000000088, 0x0000000080008009, 0x000000008000000A,\n",
    "                            0x000000008000808B, 0x800000000000008B, 0x8000000000008089,\n",
    "                            0x8000000000008003, 0x8000000000008002, 0x8000000000000080,\n",
    "                            0x000000000000800A, 0x800000008000000A, 0x8000000080008081,\n",
    "                            0x8000000000008080, 0x0000000080000001, 0x8000000080008008],\n",
    "                          dtype=np.uint64)\n",
    "\n",
    "#Lane Shifts for Rho Step\n",
    "RHO_SHIFTS = np.array([[0, 36, 3, 41, 18],\n",
    "                       [1, 44, 10, 45, 2],\n",
    "                       [62, 6, 43, 15, 61],\n",
    "                       [28, 55, 25, 21, 56],\n",
    "                       [27, 20, 39, 8, 14]], dtype=np.uint64)\n",
    "\n",
    "#Lane Re-order Mapping for Chi Step\n",
    "CHI_REORDER = ((1, 2, 3, 4, 0), (2, 3, 4, 0, 1))\n",
    "\n",
    "#Row Re-order Mapping for Pi Step\n",
    "PI_ROW_REORDER = np.array([[0, 3, 1, 4, 2],\n",
    "                           [1, 4, 2, 0, 3],\n",
    "                           [2, 0, 3, 1, 4],\n",
    "                           [3, 1, 4, 2, 0],\n",
    "                           [4, 2, 0, 3, 1]])\n",
    "\n",
    "#Column Re-order Mapping for Pi Step\n",
    "PI_COLUMN_REORDER = np.array([[0, 0, 0, 0, 0],\n",
    "                              [1, 1, 1, 1, 1],\n",
    "                              [2, 2, 2, 2, 2],\n",
    "                              [3, 3, 3, 3, 3],\n",
    "                              [4, 4, 4, 4, 4]])\n",
    "\n",
    "\n",
    "def KeccakF1600(state):\n",
    "    state = np.copy(np.frombuffer(state, dtype=np.uint64, count=25).reshape([5, 5], order='F'))\n",
    "    for round_num in range(24):\n",
    "        # theta_step:\n",
    "        # Exclusive-or each slice-lane by state based permutation value\n",
    "        array_shift = state << 1 | state >> 63\n",
    "        state ^= np.bitwise_xor.reduce(state[THETA_REORDER[0], ], 1, keepdims=True) ^ np.bitwise_xor.reduce(array_shift[THETA_REORDER[1], ], 1, keepdims=True)\n",
    "\n",
    "        # rho_step:\n",
    "        # Left Rotate each lane by pre-calculated value\n",
    "        state = state << RHO_SHIFTS | state >> np.uint64(64 - RHO_SHIFTS)\n",
    "\n",
    "        # pi_step:\n",
    "        # Shuffle lanes to pre-calculated positions\n",
    "        state = state[PI_ROW_REORDER, PI_COLUMN_REORDER]\n",
    "\n",
    "        # chi_step:\n",
    "        # Exclusive-or each individual lane based on and/invert permutation\n",
    "        state ^= ~state[CHI_REORDER[0], ] & state[CHI_REORDER[1], ]\n",
    "\n",
    "        # iota_step:\n",
    "        # Exclusive-or first lane of state with round constant\n",
    "        state[0, 0] ^= IOTA_CONSTANTS[round_num]\n",
    "    \n",
    "    return bytearray(state.tobytes(order='F'))\n",
    "\n",
    "def Keccak(rate, capacity, inputBytes, delimitedSuffix, outputByteLen):\n",
    "    outputBytes = bytearray()\n",
    "    state = bytearray([0 for i in range(200)])\n",
    "    rateInBytes = rate//8\n",
    "    blockSize = 0\n",
    "    if (((rate + capacity) != 1600) or ((rate % 8) != 0)):\n",
    "        return\n",
    "    inputOffset = 0\n",
    "    # === Absorb all the input blocks ===\n",
    "    while(inputOffset < len(inputBytes)):\n",
    "        blockSize = min(len(inputBytes)-inputOffset, rateInBytes)\n",
    "        for i in range(blockSize):\n",
    "            state[i] = state[i] ^ inputBytes[i+inputOffset]\n",
    "        inputOffset = inputOffset + blockSize\n",
    "        if (blockSize == rateInBytes):\n",
    "            state = KeccakF1600(state)\n",
    "            blockSize = 0\n",
    "    # === Do the padding and switch to the squeezing phase ===\n",
    "    state[blockSize] = state[blockSize] ^ delimitedSuffix\n",
    "    if (((delimitedSuffix & 0x80) != 0) and (blockSize == (rateInBytes-1))):\n",
    "        state = KeccakF1600(state)\n",
    "    state[rateInBytes-1] = state[rateInBytes-1] ^ 0x80\n",
    "    state = KeccakF1600(state)\n",
    "    # === Squeeze out all the output blocks ===\n",
    "    while(outputByteLen > 0):\n",
    "        blockSize = min(outputByteLen, rateInBytes)\n",
    "        outputBytes = outputBytes + state[0:blockSize]\n",
    "        outputByteLen = outputByteLen - blockSize\n",
    "        if (outputByteLen > 0):\n",
    "            state = KeccakF1600(state)\n",
    "    return outputBytes\n",
    "\n",
    "def SHAKE128(inputBytes, outputByteLen):\n",
    "    return Keccak(1344, 256, inputBytes, 0x1F, outputByteLen)\n",
    "\n",
    "def SHAKE256(inputBytes, outputByteLen):\n",
    "    return Keccak(1088, 512, inputBytes, 0x1F, outputByteLen)\n",
    "\n",
    "def SHA3_224(inputBytes):\n",
    "    return Keccak(1152, 448, inputBytes, 0x06, 224//8)\n",
    "\n",
    "def SHA3_256(inputBytes):\n",
    "    return Keccak(1088, 512, inputBytes, 0x06, 256//8)\n",
    "\n",
    "def SHA3_384(inputBytes):\n",
    "    return Keccak(832, 768, inputBytes, 0x06, 384//8)\n",
    "\n",
    "def SHA3_512(inputBytes):\n",
    "    return Keccak(576, 1024, inputBytes, 0x06, 512//8)"
   ]
  },
  {
   "cell_type": "code",
   "execution_count": 2,
   "metadata": {},
   "outputs": [],
   "source": [
    "import struct\n",
    "import numpy as np\n",
    "import cbitstruct as bitstruct\n",
    "from itertools import islice\n",
    "\n",
    "BITSTRUCT_MATRIX_PACK = \"<\" + \"u64\"*256\n",
    "BITSTRUCT_MATRIX_UNPACK = \"<\" + \"u4\"*4096\n",
    "BITSTRUCT_VECTOR = \">\" + \"u4\"*64\n",
    "\n",
    "POW_HEADER = struct.pack(\"<136s\", b\"\\x01\\x88\\x01\\x00\\x01\\x78ProofOfWorkHash\")\n",
    "HEAVY_HEADER = struct.pack(\"<136s\", b\"\\x01\\x88\\x01\\x00\\x01\\x48HeavyHash\")\n",
    "\n",
    "class Xoshiro256PlusPlus(object):\n",
    "    def __init__(self, state):\n",
    "        self.state = [x for x in state]\n",
    "\n",
    "    @staticmethod\n",
    "    def _rotl(x, k):\n",
    "        return ((x << k) & 0xFFFFFFFFFFFFFFFF) | (x >> (64 - k))\n",
    "\n",
    "    def __next__(self):\n",
    "        result = (self._rotl((self.state[0] + self.state[3]) & 0xFFFFFFFFFFFFFFFF, 23) + self.state[0]) & 0xFFFFFFFFFFFFFFFF\n",
    "\n",
    "        t = (self.state[1] << 17) & 0xFFFFFFFFFFFFFFFF\n",
    "\n",
    "        self.state[2] ^= self.state[0]\n",
    "        self.state[3] ^= self.state[1]\n",
    "        self.state[1] ^= self.state[2]\n",
    "        self.state[0] ^= self.state[3]\n",
    "\n",
    "        self.state[2] ^= t\n",
    "        self.state[3] = self._rotl(self.state[3], 45)\n",
    "\n",
    "        return int(result)\n",
    "\n",
    "    def __iter__(self):\n",
    "        return self\n",
    "\n",
    "\n",
    "def calculate_target(bits):\n",
    "    unshifted_expt = bits >> 24\n",
    "    if unshifted_expt <= 3:\n",
    "        mant = (bits & 0xFFFFFF) >> (8 * (3 - unshifted_expt))\n",
    "        expt = 0\n",
    "    else:\n",
    "        mant = bits & 0xFFFFFF\n",
    "        expt = 8 * ((bits >> 24) - 3)\n",
    "    return mant << expt\n",
    "\n",
    "\n",
    "def cast_to_4bit_matrix(buffer):\n",
    "    return np.array(bitstruct.unpack(BITSTRUCT_MATRIX_UNPACK, buffer), dtype=\"uint16\").reshape(64, 64)\n",
    "\n",
    "\n",
    "def generate_matrix(header_hash: bytes):\n",
    "    xoshiro = Xoshiro256PlusPlus(struct.unpack(\"<4Q\", header_hash))\n",
    "\n",
    "    buffer = bitstruct.pack(BITSTRUCT_MATRIX_PACK, *islice(xoshiro, 256))\n",
    "    matrix = cast_to_4bit_matrix(buffer)\n",
    "    while np.linalg.matrix_rank(matrix) < 64:\n",
    "        buffer = bitstruct.pack(BITSTRUCT_MATRIX_PACK, *islice(xoshiro, 256))\n",
    "        matrix = cast_to_4bit_matrix(buffer)\n",
    "    return matrix\n",
    "\n",
    "\n",
    "def _calculate_hash(header_hash, matrix, timestamp, nonce):\n",
    "    to_hash = struct.pack(\"<32sQ32xQ\", header_hash, timestamp, nonce)\n",
    "\n",
    "    # Keccak returns little endian\n",
    "    pow_hash = Keccak(1088, 512, POW_HEADER + to_hash, 0x04, 32)\n",
    "\n",
    "    matmul = np.right_shift(np.matmul(matrix, np.array(bitstruct.unpack(BITSTRUCT_VECTOR, pow_hash), dtype=\"uint16\"), dtype=\"uint16\"), 10, dtype=\"uint16\")\n",
    "    xored = bytes(a^b for (a,b) in zip(pow_hash, bitstruct.pack(BITSTRUCT_VECTOR, *map(int, matmul))))\n",
    "\n",
    "    # Keccak returns little endian\n",
    "    heavy_hash = Keccak(1088, 512, HEAVY_HEADER + xored, 0x04, 32)\n",
    "    return heavy_hash[::-1]"
   ]
  },
  {
   "cell_type": "code",
   "execution_count": 3,
   "metadata": {},
   "outputs": [],
   "source": [
    "def run_batch(pow_header, matrix, timestamp, target, nonce_start, batch_size=100):\n",
    "    \"\"\"\n",
    "    Mines a batch. Currently uses python as the engine\n",
    "    Use this function to implement advanced mines\n",
    "    \"\"\"\n",
    "    for i in range(batch_size):\n",
    "        nonce = nonce_start + i\n",
    "        \n",
    "        value = int(_calculate_hash(pow_header, matrix, timestamp, nonce).hex(), 16)\n",
    "        \n",
    "        if value < target:\n",
    "            print(\"Found block!\")\n",
    "            print(\"nonce; %d\" % nonce)\n",
    "            print(\"hash  : %s\" % hex(value))\n",
    "            print(\"target: %s\" % hex(target))\n",
    "            return"
   ]
  },
  {
   "cell_type": "code",
   "execution_count": 4,
   "metadata": {},
   "outputs": [
    {
     "name": "stdout",
     "output_type": "stream",
     "text": [
      "Found block!\n",
      "nonce; 125\n",
      "hash  : 0x4ffffaef858637935bbc01179cb397d9080db0dd7ab4350a553029ef02f52a3\n",
      "target: 0x7ffffffffffffffffffffffffffffffffffffffffffffffffffffffffffffff\n"
     ]
    }
   ],
   "source": [
    "header_hash = b\"\\x02\\x12\\x34\\x90\\x48\\x23\\x11\\x87\\x46\\x38\\x13\\x46\\x28\\x43\\x79\\x12\\x22\\x33\\x02\\x09\\x43\\x52\\x44\\x66\\x52\\x31\\x77\\x62\\x29\\x02\\x88\\x41\"\n",
    "timestamp = 100\n",
    "target = int(\"07ffffffffffffffffffffffffffffffffffffffffffffffffffffffffffffff\", 16)\n",
    "nonce_start = 100\n",
    "\n",
    "run_batch(header_hash, generate_matrix(header_hash), timestamp, target, nonce_start)"
   ]
  },
  {
   "cell_type": "markdown",
   "metadata": {},
   "source": [
    "# FPGA implementation"
   ]
  },
  {
   "cell_type": "code",
   "execution_count": 5,
   "metadata": {},
   "outputs": [
    {
     "data": {
      "application/javascript": [
       "\n",
       "try {\n",
       "require(['notebook/js/codecell'], function(codecell) {\n",
       "  codecell.CodeCell.options_default.highlight_modes[\n",
       "      'magic_text/x-csrc'] = {'reg':[/^%%microblaze/]};\n",
       "  Jupyter.notebook.events.one('kernel_ready.Kernel', function(){\n",
       "      Jupyter.notebook.get_cells().map(function(cell){\n",
       "          if (cell.cell_type == 'code'){ cell.auto_highlight(); } }) ;\n",
       "  });\n",
       "});\n",
       "} catch (e) {};\n"
      ]
     },
     "metadata": {},
     "output_type": "display_data"
    },
    {
     "data": {
      "application/javascript": [
       "\n",
       "try {\n",
       "require(['notebook/js/codecell'], function(codecell) {\n",
       "  codecell.CodeCell.options_default.highlight_modes[\n",
       "      'magic_text/x-csrc'] = {'reg':[/^%%pybind11/]};\n",
       "  Jupyter.notebook.events.one('kernel_ready.Kernel', function(){\n",
       "      Jupyter.notebook.get_cells().map(function(cell){\n",
       "          if (cell.cell_type == 'code'){ cell.auto_highlight(); } }) ;\n",
       "  });\n",
       "});\n",
       "} catch (e) {};\n"
      ]
     },
     "metadata": {},
     "output_type": "display_data"
    }
   ],
   "source": [
    "from codecs import encode\n",
    "from pynq import Overlay, mmio, allocate\n",
    "import time"
   ]
  },
  {
   "cell_type": "code",
   "execution_count": 6,
   "metadata": {},
   "outputs": [],
   "source": [
    "overlay = Overlay('/home/xilinx/kaspynq/kaspynq.bit') # load the PL"
   ]
  },
  {
   "cell_type": "code",
   "execution_count": 7,
   "metadata": {},
   "outputs": [],
   "source": [
    "# PL register map\n",
    "base_addr = 0x43c00000\n",
    "version_offset = 0\n",
    "ctl_offset = 4 # write 1 to bit 0 to start, write 1 to bit 1 to reset, self-clearing\n",
    "done_offset = 8 # read bit 0 to see if golden nonce was found, self-clearing\n",
    "target_base_addr_offset = 12\n",
    "input_data_base_addr_offset = 16\n",
    "matrix_base_addr_offset = 20\n",
    "result_base_addr_offset = 24\n",
    "current_nonce_lsw = 28\n",
    "current_nonce_msw = 32\n",
    "starting_nonce_lsw = 36\n",
    "starting_nonce_msw = 40\n",
    "\n",
    "reg_space = mmio.MMIO(base_addr, 44)"
   ]
  },
  {
   "cell_type": "code",
   "execution_count": 8,
   "metadata": {},
   "outputs": [
    {
     "data": {
      "text/plain": [
       "27"
      ]
     },
     "execution_count": 8,
     "metadata": {},
     "output_type": "execute_result"
    }
   ],
   "source": [
    "reg_space.read(version_offset) # check kaspynq version number"
   ]
  },
  {
   "cell_type": "code",
   "execution_count": 9,
   "metadata": {},
   "outputs": [],
   "source": [
    "def allocate_shared_mem():\n",
    "    #  allocate shared memory regions for target, input data, matrix, and result\n",
    "    target_buffer = allocate(shape=(32,), dtype='u1') # target, 256 bits, so 32 bytes\n",
    "    input_buffer = allocate(shape=(72,), dtype='u1') # input data without nonce, 576 bits, so 72 bytes\n",
    "    matrix_buffer = allocate(shape=(2048,), dtype='u1') # matrix is 64*64*4=16,384 bits, so 2048 bytes\n",
    "    result_buffer = allocate(shape=(40,), dtype='u1') # 256-bit golden hash result plus 64-bit golden nonce, so 40 bytes\n",
    "    # sync the result buffer memory to PL\n",
    "    result_buffer.flush()\n",
    "    # write addresses of shared memory regions to PL registers\n",
    "    reg_space.write(target_base_addr_offset, target_buffer.device_address)\n",
    "    reg_space.write(input_data_base_addr_offset, input_buffer.device_address)\n",
    "    reg_space.write(matrix_base_addr_offset, matrix_buffer.device_address)\n",
    "    reg_space.write(result_base_addr_offset, result_buffer.device_address)\n",
    "    return target_buffer, input_buffer, matrix_buffer, result_buffer"
   ]
  },
  {
   "cell_type": "code",
   "execution_count": 10,
   "metadata": {},
   "outputs": [],
   "source": [
    "def config_target(target, target_buffer):\n",
    "    i = 0\n",
    "    for byte in target:\n",
    "        target_buffer[i] = byte\n",
    "        i += 1\n",
    "    target_buffer.flush()"
   ]
  },
  {
   "cell_type": "code",
   "execution_count": 11,
   "metadata": {},
   "outputs": [],
   "source": [
    "def config_input(data, input_buffer):\n",
    "    i = 0\n",
    "    for byte in data:\n",
    "        input_buffer[i] = byte\n",
    "        i += 1\n",
    "    input_buffer.flush()"
   ]
  },
  {
   "cell_type": "code",
   "execution_count": 12,
   "metadata": {},
   "outputs": [],
   "source": [
    "def config_matrix(matrix, matrix_buffer):\n",
    "    for i in range(64):\n",
    "        for j in range(0,64,2):\n",
    "            byte = matrix[i][j] + (matrix[i][j+1] << 4)\n",
    "            matrix_buffer[32*i+j//2] = byte\n",
    "    matrix_buffer.flush()"
   ]
  },
  {
   "cell_type": "code",
   "execution_count": 13,
   "metadata": {},
   "outputs": [],
   "source": [
    "def config_nonce_start(nonce_start):\n",
    "    nonce_start_lsw = nonce_start & 0xffffffff\n",
    "    nonce_start_msw = (nonce_start >> 32) & 0xffffffff\n",
    "    reg_space.write(starting_nonce_lsw, nonce_start_lsw)\n",
    "    reg_space.write(starting_nonce_msw, nonce_start_msw)"
   ]
  },
  {
   "cell_type": "code",
   "execution_count": 14,
   "metadata": {},
   "outputs": [],
   "source": [
    "target_buffer, input_buffer, matrix_buffer, result_buffer = allocate_shared_mem() # allocate shared memory region, only do once"
   ]
  },
  {
   "cell_type": "code",
   "execution_count": 15,
   "metadata": {},
   "outputs": [],
   "source": [
    "def run_batch_fpga(pow_header, matrix, target_buffer, matrix_buffer, input_buffer, result_buffer, timestamp, target, nonce_start):\n",
    "    \"\"\"\n",
    "    Mines a batch. Currently uses python as the engine\n",
    "    Use this function to implement advanced mines\n",
    "    \"\"\"\n",
    "    \n",
    "    config_matrix(matrix, matrix_buffer)\n",
    "    to_hash = struct.pack(\"<32sQ32x\", pow_header, timestamp)\n",
    "    config_input(to_hash, input_buffer)\n",
    "    config_target(target, target_buffer)\n",
    "    config_nonce_start(nonce_start)\n",
    "    reg_space.write(ctl_offset, 1)\n",
    "    while True:\n",
    "        done = reg_space.read(done_offset)\n",
    "        if done == 1:\n",
    "            break\n",
    "    result_buffer.invalidate()\n",
    "    golden_hash = int.from_bytes(result_buffer[0:32], \"little\")\n",
    "    golden_nonce = int.from_bytes(result_buffer[32:40], \"little\")\n",
    "    print(\"Found block!\")\n",
    "    print(\"nonce: %d\" % golden_nonce)\n",
    "    print(\"hash  : %s\" % hex(golden_hash))\n",
    "    print(\"target: %s\" % target)\n",
    "    return"
   ]
  },
  {
   "cell_type": "code",
   "execution_count": 16,
   "metadata": {},
   "outputs": [
    {
     "name": "stdout",
     "output_type": "stream",
     "text": [
      "Found block!\n",
      "nonce: 125\n",
      "hash  : 0x4ffffaef858637935bbc01179cb397d9080db0dd7ab4350a553029ef02f52a3\n",
      "target: b'\\xff\\xff\\xff\\xff\\xff\\xff\\xff\\xff\\xff\\xff\\xff\\xff\\xff\\xff\\xff\\xff\\xff\\xff\\xff\\xff\\xff\\xff\\xff\\xff\\xff\\xff\\xff\\xff\\xff\\xff\\xff\\x07'\n"
     ]
    }
   ],
   "source": [
    "header_hash = b\"\\x02\\x12\\x34\\x90\\x48\\x23\\x11\\x87\\x46\\x38\\x13\\x46\\x28\\x43\\x79\\x12\\x22\\x33\\x02\\x09\\x43\\x52\\x44\\x66\\x52\\x31\\x77\\x62\\x29\\x02\\x88\\x41\"\n",
    "timestamp = 100\n",
    "target = bytes.fromhex(\"ffffffffffffffffffffffffffffffffffffffffffffffffffffffffffffff07\")\n",
    "nonce_start = 100\n",
    "\n",
    "run_batch_fpga(header_hash, generate_matrix(header_hash), target_buffer, matrix_buffer, input_buffer, result_buffer, timestamp, target, nonce_start)"
   ]
  },
  {
   "cell_type": "markdown",
   "metadata": {},
   "source": [
    "## Test hashrate"
   ]
  },
  {
   "cell_type": "code",
   "execution_count": 17,
   "metadata": {},
   "outputs": [],
   "source": [
    "pow_header = b\"\\x02\\x12\\x34\\x90\\x48\\x23\\x11\\x87\\x46\\x38\\x13\\x46\\x28\\x43\\x79\\x12\\x22\\x33\\x02\\x09\\x43\\x52\\x44\\x66\\x52\\x31\\x77\\x62\\x29\\x02\\x88\\x41\"\n",
    "timestamp = 100\n",
    "target = bytes.fromhex(\"ffffffffffffffffffffffffffffffffffffffffffffffffffffff0000000000\")\n",
    "matrix = generate_matrix(header_hash)\n",
    "\n",
    "config_matrix(matrix, matrix_buffer)\n",
    "to_hash = struct.pack(\"<32sQ32x\", pow_header, timestamp)\n",
    "config_input(to_hash, input_buffer)\n",
    "config_target(target, target_buffer)\n",
    "start = time.time()\n",
    "reg_space.write(ctl_offset, 1)"
   ]
  },
  {
   "cell_type": "code",
   "execution_count": 18,
   "metadata": {},
   "outputs": [
    {
     "name": "stdout",
     "output_type": "stream",
     "text": [
      "14.995018 Mh/s\n"
     ]
    }
   ],
   "source": [
    "reg_space.write(ctl_offset, 2)\n",
    "end = time.time()\n",
    "num_hashes = reg_space.read(current_nonce_lsw)\n",
    "print(\"%f Mh/s\" % (num_hashes / (end-start) / 1000000))"
   ]
  },
  {
   "cell_type": "code",
   "execution_count": null,
   "metadata": {},
   "outputs": [],
   "source": []
  }
 ],
 "metadata": {
  "kernelspec": {
   "display_name": "Python 3",
   "language": "python",
   "name": "python3"
  },
  "language_info": {
   "codemirror_mode": {
    "name": "ipython",
    "version": 3
   },
   "file_extension": ".py",
   "mimetype": "text/x-python",
   "name": "python",
   "nbconvert_exporter": "python",
   "pygments_lexer": "ipython3",
   "version": "3.6.5"
  }
 },
 "nbformat": 4,
 "nbformat_minor": 2
}
